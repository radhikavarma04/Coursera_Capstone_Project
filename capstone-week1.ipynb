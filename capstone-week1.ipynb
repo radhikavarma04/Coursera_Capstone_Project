{
    "cells": [
        {
            "cell_type": "markdown",
            "metadata": {
                "collapsed": true
            },
            "source": "Coursera Capstone, IBM Data Specialization\n\n\nCourse 9, Week 4 -- \"Battle of the Neighborhoods\"\n\n\nPart 1. A description of the problem and a discussion of the background.\n\n\nIn my project I will investigate in a general sense similarities betweeen postcodes in Birmingham vs London. The following geospatial analysis will review location data by postcode and aim to form clusters based on location attributes. In this case I will extract data on top venue categories and distinguish which postcodes are similar based on that feature. This could then give insight to a business owner in London to expand on which postcode.\n\nIt is known that location is a essential feature for a store or business to perform well. In particular other types of venues could drive footfall to neighbouring venues. Hence a business owner could using clustering to examine areas that are in favourable clusters. I will observe the venues of each post code and and form map visualisations to examine clusters.\n\nThe case which I will examine for will be Indian restaurants between both cities and try to recommend which Birmingham postcode a Indian restaurant owner from London would like to consider. Cases of postcodes that we are interested in will be of the following:\n\nAreas with no Indian restaurants but close to the centre of Birmingham as possible: Opportunity to capitalise on an area missing out\nAreas with Indian restaurants: Established locations with direct rivals may either cannibalise potential sales or let you benefit from footfall that is coming from being near rivals. This idea needs further inspection beyond the scope of this project but potential candidates for this category will be considered\nIn this notebook I hope to evaluate pros/cons of resulting clusters and give the best recommendation arising from the data"
        }
    ],
    "metadata": {
        "kernelspec": {
            "display_name": "Python 3.6",
            "language": "python",
            "name": "python3"
        },
        "language_info": {
            "codemirror_mode": {
                "name": "ipython",
                "version": 3
            },
            "file_extension": ".py",
            "mimetype": "text/x-python",
            "name": "python",
            "nbconvert_exporter": "python",
            "pygments_lexer": "ipython3",
            "version": "3.6.8"
        }
    },
    "nbformat": 4,
    "nbformat_minor": 1
}